{
 "cells": [
  {
   "cell_type": "code",
   "execution_count": 1,
   "metadata": {},
   "outputs": [],
   "source": [
    "import py_gs128\n",
    "from datetime import datetime"
   ]
  },
  {
   "cell_type": "code",
   "execution_count": 2,
   "metadata": {},
   "outputs": [],
   "source": [
    "order = [\n",
    "{'gtin': '04660342552832', 'quantity': int(2004/6), 'date': '01.09.2024'},\n",
    "{'gtin': '04660342552849', 'quantity': int(2004/6), 'date': '01.09.2024'},\n",
    "{'gtin': '04660342552856', 'quantity': int(2004/6), 'date': '01.09.2024'},\n",
    "{'gtin': '04660342552863', 'quantity': int(2004/6), 'date': '01.09.2024'},\n",
    "{'gtin': '04660342552870', 'quantity': int(2004/6), 'date': '01.09.2024'},\n",
    "{'gtin': '04660342552887', 'quantity': int(2004/6), 'date': '01.09.2024'},\n",
    "{'gtin': '04660342552894', 'quantity': int(2004/6), 'date': '01.09.2024'},\n",
    "{'gtin': '04660342552900', 'quantity': int(2004/6), 'date': '01.09.2024'},\n",
    "{'gtin': '04660342552917', 'quantity': int(2004/6), 'date': '01.09.2024'},\n",
    "{'gtin': '04660342552924', 'quantity': int(2004/6), 'date': '01.09.2024'}\n",
    "]"
   ]
  },
  {
   "cell_type": "code",
   "execution_count": 3,
   "metadata": {},
   "outputs": [],
   "source": [
    "code_list = []\n",
    "\n",
    "for line in order:\n",
    "    gtin = line['gtin']\n",
    "    quantity = line['quantity']\n",
    "    date = datetime.strptime(line['date'], '%d.%m.%Y')\n",
    "    for _ in range(quantity):\n",
    "        code = py_gs128.Creater().code_01(gtin).code_11(date).code_21(digs=6)\n",
    "        code_list.append(str(code))"
   ]
  },
  {
   "cell_type": "code",
   "execution_count": 4,
   "metadata": {},
   "outputs": [
    {
     "data": {
      "text/plain": [
       "110219"
      ]
     },
     "execution_count": 4,
     "metadata": {},
     "output_type": "execute_result"
    }
   ],
   "source": [
    "out_txt = '\\n'.join(code_list)\n",
    "open('out.txt', 'w').write(out_txt)"
   ]
  }
 ],
 "metadata": {
  "kernelspec": {
   "display_name": "Python 3",
   "language": "python",
   "name": "python3"
  },
  "language_info": {
   "codemirror_mode": {
    "name": "ipython",
    "version": 3
   },
   "file_extension": ".py",
   "mimetype": "text/x-python",
   "name": "python",
   "nbconvert_exporter": "python",
   "pygments_lexer": "ipython3",
   "version": "3.12.5"
  }
 },
 "nbformat": 4,
 "nbformat_minor": 2
}
